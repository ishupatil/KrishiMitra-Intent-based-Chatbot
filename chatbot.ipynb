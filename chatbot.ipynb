{
 "cells": [
  {
   "cell_type": "code",
   "execution_count": null,
   "id": "aa2b6243-8e44-4606-adaf-0f1344dd7fc2",
   "metadata": {},
   "outputs": [
    {
     "name": "stderr",
     "output_type": "stream",
     "text": [
      "WARNING:absl:Compiled the loaded model, but the compiled metrics have yet to be built. `model.compile_metrics` will be empty until you train or evaluate the model.\n"
     ]
    },
    {
     "name": "stdout",
     "output_type": "stream",
     "text": [
      "Chatbot is running!\n"
     ]
    },
    {
     "name": "stdin",
     "output_type": "stream",
     "text": [
      "You:  hi\n"
     ]
    },
    {
     "name": "stdout",
     "output_type": "stream",
     "text": [
      "\u001b[1m1/1\u001b[0m \u001b[32m━━━━━━━━━━━━━━━━━━━━\u001b[0m\u001b[37m\u001b[0m \u001b[1m0s\u001b[0m 148ms/step\n",
      "Bot: Hi there! How can I help you with your farm?\n"
     ]
    },
    {
     "name": "stdin",
     "output_type": "stream",
     "text": [
      "You:  How can I improve my soil health for better crops?\n"
     ]
    },
    {
     "name": "stdout",
     "output_type": "stream",
     "text": [
      "\u001b[1m1/1\u001b[0m \u001b[32m━━━━━━━━━━━━━━━━━━━━\u001b[0m\u001b[37m\u001b[0m \u001b[1m0s\u001b[0m 79ms/step\n",
      "Bot: Soil health can be improved by adding organic matter like compost, practicing crop rotation, and reducing tillage.\n"
     ]
    },
    {
     "name": "stdin",
     "output_type": "stream",
     "text": [
      "You:  What’s the best irrigation system for my farm size?\n"
     ]
    },
    {
     "name": "stdout",
     "output_type": "stream",
     "text": [
      "Bot: You are inputting the wrong input. Please try asking something else.\n"
     ]
    },
    {
     "name": "stdin",
     "output_type": "stream",
     "text": [
      "You:  When is the best time to harvest apples?\n"
     ]
    },
    {
     "name": "stdout",
     "output_type": "stream",
     "text": [
      "\u001b[1m1/1\u001b[0m \u001b[32m━━━━━━━━━━━━━━━━━━━━\u001b[0m\u001b[37m\u001b[0m \u001b[1m0s\u001b[0m 82ms/step\n",
      "Bot: Grapes are ready for harvest when they are fully ripe, and the sugar content is optimal, often measured by a refractometer.\n"
     ]
    },
    {
     "name": "stdin",
     "output_type": "stream",
     "text": [
      "You:  When is the best time to harvest apples?\n"
     ]
    },
    {
     "name": "stdout",
     "output_type": "stream",
     "text": [
      "\u001b[1m1/1\u001b[0m \u001b[32m━━━━━━━━━━━━━━━━━━━━\u001b[0m\u001b[37m\u001b[0m \u001b[1m0s\u001b[0m 79ms/step\n",
      "Bot: Grapes are ready for harvest when they are fully ripe, and the sugar content is optimal, often measured by a refractometer.\n"
     ]
    },
    {
     "name": "stdin",
     "output_type": "stream",
     "text": [
      "You:  When is the best time to harvest apples?\n"
     ]
    },
    {
     "name": "stdout",
     "output_type": "stream",
     "text": [
      "\u001b[1m1/1\u001b[0m \u001b[32m━━━━━━━━━━━━━━━━━━━━\u001b[0m\u001b[37m\u001b[0m \u001b[1m0s\u001b[0m 82ms/step\n",
      "Bot: Apples are best harvested when they are firm, and the color has fully developed, typically in late summer to early fall.\n"
     ]
    },
    {
     "name": "stdin",
     "output_type": "stream",
     "text": [
      "You:  How do I maintain my tractor for optimal performance?\n"
     ]
    },
    {
     "name": "stdout",
     "output_type": "stream",
     "text": [
      "\u001b[1m1/1\u001b[0m \u001b[32m━━━━━━━━━━━━━━━━━━━━\u001b[0m\u001b[37m\u001b[0m \u001b[1m0s\u001b[0m 78ms/step\n",
      "Bot: Change the oil in your irrigation pump annually, and inspect the seals and filters for wear and tear before and after the irrigation season.\n"
     ]
    },
    {
     "name": "stdin",
     "output_type": "stream",
     "text": [
      "You:  dashdg\n"
     ]
    },
    {
     "name": "stdout",
     "output_type": "stream",
     "text": [
      "Bot: You are inputting the wrong input. Please try asking something else.\n"
     ]
    }
   ],
   "source": [
    "\n",
    "import random\n",
    "import json\n",
    "import pickle\n",
    "import numpy as np\n",
    "import nltk\n",
    "from nltk.stem import WordNetLemmatizer\n",
    "from keras.models import load_model\n",
    "import streamlit as st\n",
    "\n",
    "\n",
    "lemmatizer = WordNetLemmatizer()\n",
    "\n",
    "# Load data and model\n",
    "with open('intents_2.json', 'r') as file:\n",
    "    intents = json.load(file)\n",
    "\n",
    "words = pickle.load(open('words.pkl', 'rb'))\n",
    "classes = pickle.load(open('classes.pkl', 'rb'))\n",
    "model = load_model('chatbot_simplilearnmodel.h5')\n",
    "\n",
    "# Extract all patterns from intents for strict matching\n",
    "all_patterns = []\n",
    "for intent in intents['intents']:\n",
    "    all_patterns.extend(intent['patterns'])\n",
    "\n",
    "# Clean up the input sentence\n",
    "def clean_up_sentence(sentence):\n",
    "    sentence_words = nltk.word_tokenize(sentence)\n",
    "    sentence_words = [lemmatizer.lemmatize(word.lower()) for word in sentence_words]\n",
    "    return \" \".join(sentence_words)\n",
    "\n",
    "# Convert sentence into bag-of-words\n",
    "def bag_of_words(sentence):\n",
    "    sentence_words = nltk.word_tokenize(sentence)\n",
    "    sentence_words = [lemmatizer.lemmatize(word.lower()) for word in sentence_words]\n",
    "    bag = [0] * len(words)\n",
    "    for w in sentence_words:\n",
    "        for i, word in enumerate(words):\n",
    "            if word == w:\n",
    "                bag[i] = 1\n",
    "    return np.array(bag)\n",
    "\n",
    "# Predict the class of the input\n",
    "def predict_class(sentence):\n",
    "    bow = bag_of_words(sentence)\n",
    "    res = model.predict(np.array([bow]))[0]\n",
    "    ERROR_THRESHOLD = 0.30  # Set a threshold for confidence\n",
    "    results = [[i, r] for i, r in enumerate(res) if r > ERROR_THRESHOLD]\n",
    "    results.sort(key=lambda x: x[1], reverse=True)\n",
    "    if not results:  # No results above the threshold\n",
    "        return [{\"intent\": \"fallback\", \"probability\": \"0\"}]\n",
    "    return [{\"intent\": classes[results[0][0]], \"probability\": str(results[0][1])}]\n",
    "\n",
    "# Get response based on the predicted intent\n",
    "def get_response(intents_list, intents_json):\n",
    "    tag = intents_list[0]['intent']\n",
    "    list_of_intents = intents_json['intents']\n",
    "    for i in list_of_intents:\n",
    "        if i['tag'] == tag:\n",
    "            return random.choice(i['responses'])\n",
    "    return \"I'm sorry, I didn't understand that.\"\n",
    "\n",
    "# Main loop\n",
    "print(\"Chatbot is running!\")\n",
    "while True:\n",
    "    try:\n",
    "        message = input(\"You: \").strip()\n",
    "        if not message:  # Check for empty input\n",
    "            print(\"Bot: Please enter a valid input.\")\n",
    "            continue\n",
    "\n",
    "        # Preprocess user input for strict matching\n",
    "        cleaned_message = clean_up_sentence(message)\n",
    "\n",
    "        # Check if input matches any pattern\n",
    "        if not any(cleaned_message == clean_up_sentence(pattern) for pattern in all_patterns):\n",
    "            print(\"Bot: You are inputting the wrong input. Please try asking something else.\")\n",
    "            continue\n",
    "\n",
    "        # Get intents and validate\n",
    "        ints = predict_class(message)\n",
    "        if not ints:  # No intents above the threshold\n",
    "            print(\"Bot: You are inputting the wrong input. Please try asking something else.\")\n",
    "        else:\n",
    "            res = get_response(ints, intents)\n",
    "            print(f\"Bot: {res}\")\n",
    "    except Exception as e:\n",
    "        print(f\"Bot: An error occurred: {e}\")\n",
    "\n"
   ]
  },
  {
   "cell_type": "code",
   "execution_count": null,
   "id": "99fd5399-2664-4534-8d34-8fb06a17471e",
   "metadata": {},
   "outputs": [],
   "source": []
  },
  {
   "cell_type": "code",
   "execution_count": null,
   "id": "3d488dc5-1cfb-425d-9d06-3e6bf22dab94",
   "metadata": {},
   "outputs": [],
   "source": []
  }
 ],
 "metadata": {
  "kernelspec": {
   "display_name": "Python 3 (ipykernel)",
   "language": "python",
   "name": "python3"
  },
  "language_info": {
   "codemirror_mode": {
    "name": "ipython",
    "version": 3
   },
   "file_extension": ".py",
   "mimetype": "text/x-python",
   "name": "python",
   "nbconvert_exporter": "python",
   "pygments_lexer": "ipython3",
   "version": "3.12.4"
  }
 },
 "nbformat": 4,
 "nbformat_minor": 5
}
